{
 "cells": [
  {
   "cell_type": "code",
   "execution_count": null,
   "id": "b41bc2dc-1bd5-456c-b4c6-b16fda01a769",
   "metadata": {},
   "outputs": [
    {
     "name": "stderr",
     "output_type": "stream",
     "text": [
      "Downloading https://repo1.maven.org/maven2/org/apache/spark/spark-sql_3/3.4.1/spark-sql_3-3.4.1.pom\n",
      "Downloading https://repo1.maven.org/maven2/sh/almond/almond-spark_2.13/0.14.0-RC8/almond-spark_2.13-0.14.0-RC8.pom\n",
      "Failed to download https://repo1.maven.org/maven2/org/apache/spark/spark-sql_3/3.4.1/spark-sql_3-3.4.1.pom\n",
      "Downloading https://repo1.maven.org/maven2/org/apache/spark/spark-sql_3/3.4.1/spark-sql_3-3.4.1.pom.sha1\n",
      "Downloaded https://repo1.maven.org/maven2/sh/almond/almond-spark_2.13/0.14.0-RC8/almond-spark_2.13-0.14.0-RC8.pom\n",
      "Failed to download https://repo1.maven.org/maven2/org/apache/spark/spark-sql_3/3.4.1/spark-sql_3-3.4.1.pom.sha1\n",
      "Downloading https://jitpack.io/org/apache/spark/spark-sql_3/3.4.1/spark-sql_3-3.4.1.pom\n",
      "Failed to download https://jitpack.io/org/apache/spark/spark-sql_3/3.4.1/spark-sql_3-3.4.1.pom\n",
      "Downloading https://jitpack.io/org/apache/spark/spark-sql_3/3.4.1/spark-sql_3-3.4.1.pom.sha1\n",
      "Failed to download https://jitpack.io/org/apache/spark/spark-sql_3/3.4.1/spark-sql_3-3.4.1.pom.sha1\n",
      "Downloading https://repo1.maven.org/maven2/com/lihaoyi/scalatags_2.13/0.12.0/scalatags_2.13-0.12.0.pom\n",
      "Downloading https://repo1.maven.org/maven2/org/scala-lang/scala-library/2.13.11/scala-library-2.13.11.pom\n",
      "Downloading https://repo1.maven.org/maven2/sh/almond/ammonite-spark_2.13/0.14.0-RC8/ammonite-spark_2.13-0.14.0-RC8.pom\n",
      "Downloaded https://repo1.maven.org/maven2/sh/almond/ammonite-spark_2.13/0.14.0-RC8/ammonite-spark_2.13-0.14.0-RC8.pom\n",
      "Downloaded https://repo1.maven.org/maven2/com/lihaoyi/scalatags_2.13/0.12.0/scalatags_2.13-0.12.0.pom\n",
      "Downloaded https://repo1.maven.org/maven2/org/scala-lang/scala-library/2.13.11/scala-library-2.13.11.pom\n",
      "Downloading https://repo1.maven.org/maven2/io/get-coursier/class-path-util_2.13/0.1.4/class-path-util_2.13-0.1.4.pom\n",
      "Downloading https://repo1.maven.org/maven2/com/lihaoyi/sourcecode_2.13/0.3.0/sourcecode_2.13-0.3.0.pom\n",
      "Downloading https://repo1.maven.org/maven2/org/eclipse/jetty/jetty-server/9.4.51.v20230217/jetty-server-9.4.51.v20230217.pom\n",
      "Downloading https://repo1.maven.org/maven2/com/lihaoyi/geny_2.13/1.0.0/geny_2.13-1.0.0.pom\n",
      "Downloaded https://repo1.maven.org/maven2/io/get-coursier/class-path-util_2.13/0.1.4/class-path-util_2.13-0.1.4.pom\n",
      "Downloaded https://repo1.maven.org/maven2/com/lihaoyi/geny_2.13/1.0.0/geny_2.13-1.0.0.pom\n",
      "Downloaded https://repo1.maven.org/maven2/org/eclipse/jetty/jetty-server/9.4.51.v20230217/jetty-server-9.4.51.v20230217.pom\n",
      "Downloaded https://repo1.maven.org/maven2/com/lihaoyi/sourcecode_2.13/0.3.0/sourcecode_2.13-0.3.0.pom\n",
      "Downloading https://repo1.maven.org/maven2/org/eclipse/jetty/jetty-project/9.4.51.v20230217/jetty-project-9.4.51.v20230217.pom\n",
      "Downloaded https://repo1.maven.org/maven2/org/eclipse/jetty/jetty-project/9.4.51.v20230217/jetty-project-9.4.51.v20230217.pom\n",
      "Downloading https://repo1.maven.org/maven2/org/testcontainers/testcontainers-bom/1.16.1/testcontainers-bom-1.16.1.pom\n",
      "Downloading https://repo1.maven.org/maven2/org/infinispan/infinispan-bom/11.0.17.Final/infinispan-bom-11.0.17.Final.pom\n",
      "Downloading https://repo1.maven.org/maven2/org/junit/junit-bom/5.9.1/junit-bom-5.9.1.pom\n",
      "Downloaded https://repo1.maven.org/maven2/org/testcontainers/testcontainers-bom/1.16.1/testcontainers-bom-1.16.1.pom\n",
      "Downloaded https://repo1.maven.org/maven2/org/infinispan/infinispan-bom/11.0.17.Final/infinispan-bom-11.0.17.Final.pom\n",
      "Downloaded https://repo1.maven.org/maven2/org/junit/junit-bom/5.9.1/junit-bom-5.9.1.pom\n",
      "Downloading https://repo1.maven.org/maven2/org/infinispan/infinispan-build-configuration-parent/11.0.17.Final/infinispan-build-configuration-parent-11.0.17.Final.pom\n",
      "Downloaded https://repo1.maven.org/maven2/org/infinispan/infinispan-build-configuration-parent/11.0.17.Final/infinispan-build-configuration-parent-11.0.17.Final.pom\n",
      "Downloading https://repo1.maven.org/maven2/org/jboss/jboss-parent/36/jboss-parent-36.pom\n",
      "Downloaded https://repo1.maven.org/maven2/org/jboss/jboss-parent/36/jboss-parent-36.pom\n",
      "Downloading https://repo1.maven.org/maven2/javax/servlet/javax.servlet-api/3.1.0/javax.servlet-api-3.1.0.pom\n",
      "Downloading https://repo1.maven.org/maven2/org/eclipse/jetty/jetty-io/9.4.51.v20230217/jetty-io-9.4.51.v20230217.pom\n",
      "Downloading https://repo1.maven.org/maven2/org/eclipse/jetty/jetty-http/9.4.51.v20230217/jetty-http-9.4.51.v20230217.pom\n",
      "Downloaded https://repo1.maven.org/maven2/org/eclipse/jetty/jetty-http/9.4.51.v20230217/jetty-http-9.4.51.v20230217.pom\n",
      "Downloaded https://repo1.maven.org/maven2/org/eclipse/jetty/jetty-io/9.4.51.v20230217/jetty-io-9.4.51.v20230217.pom\n",
      "Downloaded https://repo1.maven.org/maven2/javax/servlet/javax.servlet-api/3.1.0/javax.servlet-api-3.1.0.pom\n",
      "Downloading https://repo1.maven.org/maven2/net/java/jvnet-parent/3/jvnet-parent-3.pom\n",
      "Downloaded https://repo1.maven.org/maven2/net/java/jvnet-parent/3/jvnet-parent-3.pom\n",
      "Downloading https://repo1.maven.org/maven2/org/eclipse/jetty/jetty-util/9.4.51.v20230217/jetty-util-9.4.51.v20230217.pom\n",
      "Downloaded https://repo1.maven.org/maven2/org/eclipse/jetty/jetty-util/9.4.51.v20230217/jetty-util-9.4.51.v20230217.pom\n",
      "Failed to resolve ivy dependencies:Error downloading org.apache.spark:spark-sql_3:3.4.1\n",
      "  not found: C:\\Users\\Big Data\\.ivy2\\local\\org.apache.spark\\spark-sql_3\\3.4.1\\ivys\\ivy.xml\n",
      "  not found: https://repo1.maven.org/maven2/org/apache/spark/spark-sql_3/3.4.1/spark-sql_3-3.4.1.pom\n",
      "  not found: https://jitpack.io/org/apache/spark/spark-sql_3/3.4.1/spark-sql_3-3.4.1.pom"
     ]
    }
   ],
   "source": [
    "\n",
    "// Dependências do Apache Spark\n",
    "import $ivy.`org.apache.spark::spark-sql:3.4.1`\n",
    "import org.apache.spark.sql.SparkSession\n",
    "import org.apache.spark.sql.SparkSession\n",
    "\n",
    "val spark = SparkSession.builder()\n",
    "  .appName(\"Analise de Hábitos dos Alunos\")\n",
    "  .master(\"local[*]\")\n",
    "  .getOrCreate()\n"
   ]
  },
  {
   "cell_type": "code",
   "execution_count": null,
   "id": "f476c895-67d7-41d6-b9f2-10ca19cdd451",
   "metadata": {},
   "outputs": [
    {
     "name": "stderr",
     "output_type": "stream",
     "text": [
      "-- [E006] Not Found Error: cmd1.sc:1:9 -----------------------------------------\n",
      "1 |val df = spark.read\n",
      "  |         ^^^^^\n",
      "  |         Not found: spark\n",
      "  |\n",
      "  | longer explanation available when compiling with `-explain`\n",
      "Compilation Failed"
     ]
    }
   ],
   "source": [
    "val df = spark.read\n",
    "  .option(\"header\", \"true\")\n",
    "  .option(\"inferSchema\", \"true\")\n",
    "  .csv(\"E:/Mestrado UFCG/kaggle-habitos-dos-alunos-desempenho/data/StudentPerformance.csv\")\n",
    "\n",
    "df.show(5)\n"
   ]
  },
  {
   "cell_type": "code",
   "execution_count": null,
   "id": "fa7e48f5-b2f9-4b4c-b73b-09a954f8961d",
   "metadata": {},
   "outputs": [],
   "source": []
  }
 ],
 "metadata": {
  "kernelspec": {
   "display_name": "Scala",
   "language": "scala",
   "name": "scala"
  },
  "language_info": {
   "codemirror_mode": "text/x-scala",
   "file_extension": ".sc",
   "mimetype": "text/x-scala",
   "name": "scala",
   "nbconvert_exporter": "script",
   "version": "2.13.16"
  }
 },
 "nbformat": 4,
 "nbformat_minor": 5
}
